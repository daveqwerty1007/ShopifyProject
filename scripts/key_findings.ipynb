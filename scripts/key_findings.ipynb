{
 "cells": [
  {
   "cell_type": "markdown",
   "id": "b2d7e3d4",
   "metadata": {},
   "source": [
    "## Key Findings and Recommendations\n",
    "\n",
    "**Dataset insights**\n",
    "- The dataset contains 5,000 merchants. About 40% use **Shopify Email** while the rest use a **third‑party solution**. After cleaning comma‑separated numbers and dollar signs, we computed a weighted average of sent emails (10 months Jan–Oct and 2 months Nov–Dec) and derived open rates, revenue per email, cost per email and gross margins.\n",
    "- On average Shopify merchants send **~15.3k** emails per month while third‑party users send **~60k** emails. Shopify’s median open rate is ~6.5%, higher than the third‑party cohort (~1.2%) but well below the industrynchmark of ~42%【381669405570866†screenshot】, suggesting that merchants need better targeting and deliverability.\n",
    "- **Revenue per email** averages about **\\$0.68** for Shopify vs **\\$0.77** for third‑party providers. However third‑party merchants have a much larger subscriber base, so **revenue per subscriber** is ~\\$3.12 compared with ~\\$0.62 for Shopify.\n",
    "- Using Shopify’s cost of **\\$0.0003** per email and payment revenue of **0.5%** of GMV, we estimate that the typical Shopify merchant generates ~\\$9.8 in gross margin per month from Shopify Email while third‑party merchants generate ~\\$177 (because their sales volumes are higher). During the Black‑Friday/Cyber‑Monday period when merchants send **4×** more emails and see **1.3×** higher sales, the cost of pay‑as‑you‑go sending can dramatically reduce margins.\n",
    "\n",
    "**Unlimited plan analysis**\n",
    "- We calculated the monthly pay‑as‑you‑go cost per Shopify merchant (`monthly_cost`) and examined its distribution. The **75th percentile** cost is **\\$4.53**, while the **90th percentile** is **\\$14.47**.  Under an unlimited plan priced at the 75th‑percentile, Shopify would lose about \\$110 in margin across the sample (because high‑volume senders would pay less), whereas pricing at the 90th‑percentile would generate an additional **~\\$19.8k** in margin per month.\n",
    "- Competitors’ unlimited plans are far more expensive: Omnisend charges **\\$59/month** for unlimited emails up to 2,500 contacts and **Klaviyo** ties unlimited sends to the number of profiles (about **\\$150/month** at 10k contacts), while **Mailchimp** charges **\\$350+/month**【381669405570866†screenshot】.  A Shopify unlimited plan priced around **\\$10–15/month** would undercut these competitors, still cover high‑volume senders, and generate material recurring revenue.\n",
    "\n",
    "**Recommendations**\n",
    "1. **Launch an affordable unlimited plan:** Offer a single monthly fee around \\$10–15 that allows unlimited email sends.  This price point sits between the 75th and 90th percentile of current pay‑as‑you‑go spend, ensures most merchants don’t pay more than they do today, and provides significant upside relative to the low \\$0.0003 per‑email cost.\n",
    "2. **Introduce tiered pricing based on contacts:**  To align with competitor models, create tiers (e.g. up to 2,500 subscribers, 2,500–10k, 10k+) with higher unlimited prices.  High‑volume tiers could be priced closer to \\$30–50/month yet remain cheaper than Klaviyo and Omnisend.\n",
    "3. **Improve deliverability and engagement:**  Invest in features that help merchants hit the **42% open‑rate benchmark**【381669405570866†screenshot】: advanced segmentation, predictive send‑time optimization, A/B testing, and better template designs.  Higher open and click rates will increase merchants’ revenue per email and in turn Shopify’s payments revenue.\n",
    "4. **Support seasonal spikes:**  Offer a short‑term add‑on for Black‑Friday/Cyber‑Monday (e.g. temporary unlimited sending or bonus credit) to accommodate the **4×** increase in email volume without penalizing merchants with overage fees.\n",
    "5. **Promote data‑driven insights:**  Provide dashboards comparing merchants’ metrics against industry benchmarks (open, click, unsubscribe and bounce rates) and competitor pricing so they can gauge performance and justify upgrading to premium plans.\n",
    "\n",
    "These strategies leverage Shopify’s low cost structure to offer competitively priced plans while improving merchant outcomes and increasing Shopify’s email and payments revenue."
   ]
  }
 ],
 "metadata": {
  "language_info": {
   "name": "python"
  }
 },
 "nbformat": 4,
 "nbformat_minor": 5
}
