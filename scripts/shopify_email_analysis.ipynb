{
 "cells": [
  {
   "cell_type": "code",
   "execution_count": 23,
   "id": "aba70de3-ddc3-44ba-98bd-d3c83dc51a8f",
   "metadata": {},
   "outputs": [
    {
     "name": "stdout",
     "output_type": "stream",
     "text": [
      "   Customer ID  Avg Monthly Sent Emails\\n(Jan-Oct)  \\\n",
      "0            1                               86394   \n",
      "1            2                               34309   \n",
      "2            3                               42175   \n",
      "3            4                                2074   \n",
      "4            5                               20695   \n",
      "\n",
      "  Avg Monthly Sent Emails \\n(Nov-Dec)  Avg Monthly Subscribers\\n  \\\n",
      "0                             184,019                      14709   \n",
      "1                              63,129                       8209   \n",
      "2                              91,942                      17454   \n",
      "3                               2,489                       1411   \n",
      "4                              37,872                      11251   \n",
      "\n",
      "         Email Provider  Avg Monthly Opened Emails  \\\n",
      "0  Third Party Solution                    2591.82   \n",
      "1  Third Party Solution                     343.09   \n",
      "2  Third Party Solution                     421.75   \n",
      "3         Shopify Email                     186.66   \n",
      "4  Third Party Solution                     620.85   \n",
      "\n",
      "  Avg Mthly Sales $ \\n(via Email Campaigns) Avg Mthly Sales $\\n(Total)  \n",
      "0                                  $53,561                 $5,356,100   \n",
      "1                                  $16,399                   $273,317   \n",
      "2                                  $54,440                   $907,333   \n",
      "3                                     $672                    $22,400   \n",
      "4                                  $17,800                   $445,000   \n",
      "\n",
      "Columns:\n",
      " ['Customer ID', 'Avg Monthly Sent Emails\\n(Jan-Oct)', 'Avg Monthly Sent Emails \\n(Nov-Dec)', 'Avg Monthly Subscribers\\n', 'Email Provider', 'Avg Monthly Opened Emails', 'Avg Mthly Sales $ \\n(via Email Campaigns)', 'Avg Mthly Sales $\\n(Total)']\n",
      "\n",
      "Summary Stats:\n",
      "         Customer ID  Avg Monthly Sent Emails\\n(Jan-Oct)  \\\n",
      "count   5000.000000                         5000.000000   \n",
      "unique          NaN                                 NaN   \n",
      "top             NaN                                 NaN   \n",
      "freq            NaN                                 NaN   \n",
      "mean    2500.500000                        36593.803800   \n",
      "std     1443.520003                        32124.030132   \n",
      "min        1.000000                            9.000000   \n",
      "25%     1250.750000                        10931.000000   \n",
      "50%     2500.500000                        27718.000000   \n",
      "75%     3750.250000                        53297.250000   \n",
      "max     5000.000000                       119941.000000   \n",
      "\n",
      "       Avg Monthly Sent Emails \\n(Nov-Dec)  Avg Monthly Subscribers\\n  \\\n",
      "count                                 5000                5000.000000   \n",
      "unique                                4877                        NaN   \n",
      "top                                 46,886                        NaN   \n",
      "freq                                     3                        NaN   \n",
      "mean                                   NaN               10167.192600   \n",
      "std                                    NaN                4382.095192   \n",
      "min                                    NaN                  19.000000   \n",
      "25%                                    NaN                7038.750000   \n",
      "50%                                    NaN                9636.000000   \n",
      "75%                                    NaN               12987.000000   \n",
      "max                                    NaN               19993.000000   \n",
      "\n",
      "              Email Provider  Avg Monthly Opened Emails  \\\n",
      "count                   5000                5000.000000   \n",
      "unique                     2                        NaN   \n",
      "top     Third Party Solution                        NaN   \n",
      "freq                    3001                        NaN   \n",
      "mean                     NaN                1005.855386   \n",
      "std                      NaN                1019.276794   \n",
      "min                      NaN                   0.540000   \n",
      "25%                      NaN                 359.090000   \n",
      "50%                      NaN                 690.175000   \n",
      "75%                      NaN                1188.737500   \n",
      "max                      NaN                7402.400000   \n",
      "\n",
      "       Avg Mthly Sales $ \\n(via Email Campaigns) Avg Mthly Sales $\\n(Total)  \n",
      "count                                       5000                       5000  \n",
      "unique                                      4543                       4791  \n",
      "top                                      $2,031                    $70,100   \n",
      "freq                                           4                          3  \n",
      "mean                                         NaN                        NaN  \n",
      "std                                          NaN                        NaN  \n",
      "min                                          NaN                        NaN  \n",
      "25%                                          NaN                        NaN  \n",
      "50%                                          NaN                        NaN  \n",
      "75%                                          NaN                        NaN  \n",
      "max                                          NaN                        NaN  \n"
     ]
    }
   ],
   "source": [
    "import pandas as pd\n",
    "import numpy as np\n",
    "\n",
    "# Load dataset\n",
    "path = 'data.csv'\n",
    "\n",
    "df = pd.read_csv(path)\n",
    "print(df.head())\n",
    "print(\"\\nColumns:\\n\", df.columns.tolist())\n",
    "print(\"\\nSummary Stats:\\n\", df.describe(include='all'))\n"
   ]
  },
  {
   "cell_type": "code",
   "execution_count": 24,
   "id": "e9433f3d-968f-494a-8612-112f813e1f4a",
   "metadata": {},
   "outputs": [
    {
     "name": "stdout",
     "output_type": "stream",
     "text": [
      "0 'Customer ID'\n",
      "1 'Avg Monthly Sent Emails\\n(Jan-Oct)'\n",
      "2 'Avg Monthly Sent Emails \\n(Nov-Dec)'\n",
      "3 'Avg Monthly Subscribers\\n'\n",
      "4 'Email Provider'\n",
      "5 'Avg Monthly Opened Emails'\n",
      "6 'Avg Mthly Sales $ \\n(via Email Campaigns)'\n",
      "7 'Avg Mthly Sales $\\n(Total)'\n"
     ]
    }
   ],
   "source": [
    "for i, col in enumerate(df.columns):\n",
    "    print(i, repr(col))\n"
   ]
  },
  {
   "cell_type": "markdown",
   "id": "1700608b-0551-4d7a-8fbb-5a6e15615601",
   "metadata": {},
   "source": []
  },
  {
   "cell_type": "markdown",
   "id": "7fa7694d-e75a-45a7-ad7e-e678296b5b92",
   "metadata": {},
   "source": [
    "# Shopify Email Product Analysis and Pricing Strategy\n",
    "\n",
    "This notebook analyzes a dataset of Shopify merchants' email marketing activity. We clean the raw data, compute key metrics (open rates, revenue per email, cost per email, margins), compare performance across providers, explore an unlimited pricing plan, and draw on external benchmarks and competitor pricing to recommend improvements for Shopify Email."
   ]
  },
  {
   "cell_type": "code",
   "execution_count": null,
   "id": "ccbf00b2-5b6a-4cfe-95e4-582ba619c32b",
   "metadata": {},
   "outputs": [],
   "source": []
  },
  {
   "cell_type": "code",
   "execution_count": 25,
   "id": "e8925577-afbb-4dcf-ad4a-b6a1fbe8c4aa",
   "metadata": {},
   "outputs": [
    {
     "data": {
      "application/vnd.microsoft.datawrangler.viewer.v0+json": {
       "columns": [
        {
         "name": "index",
         "rawType": "int64",
         "type": "integer"
        },
        {
         "name": "Customer ID",
         "rawType": "int64",
         "type": "integer"
        },
        {
         "name": "sent_jan_oct",
         "rawType": "int64",
         "type": "integer"
        },
        {
         "name": "sent_nov_dec",
         "rawType": "object",
         "type": "string"
        },
        {
         "name": "subscribers",
         "rawType": "int64",
         "type": "integer"
        },
        {
         "name": "provider",
         "rawType": "object",
         "type": "string"
        },
        {
         "name": "opens",
         "rawType": "float64",
         "type": "float"
        },
        {
         "name": "sales_email",
         "rawType": "object",
         "type": "string"
        },
        {
         "name": "sales_total",
         "rawType": "object",
         "type": "string"
        }
       ],
       "ref": "7b0246fe-2fb6-4028-97aa-ec0de43731cd",
       "rows": [
        [
         "0",
         "1",
         "86394",
         "184,019",
         "14709",
         "Third Party Solution",
         "2591.82",
         "$53,561 ",
         "$5,356,100 "
        ],
        [
         "1",
         "2",
         "34309",
         "63,129",
         "8209",
         "Third Party Solution",
         "343.09",
         "$16,399 ",
         "$273,317 "
        ],
        [
         "2",
         "3",
         "42175",
         "91,942",
         "17454",
         "Third Party Solution",
         "421.75",
         "$54,440 ",
         "$907,333 "
        ],
        [
         "3",
         "4",
         "2074",
         "2,489",
         "1411",
         "Shopify Email",
         "186.66",
         "$672 ",
         "$22,400 "
        ],
        [
         "4",
         "5",
         "20695",
         "37,872",
         "11251",
         "Third Party Solution",
         "620.85",
         "$17,800 ",
         "$445,000 "
        ]
       ],
       "shape": {
        "columns": 8,
        "rows": 5
       }
      },
      "text/html": [
       "<div>\n",
       "<style scoped>\n",
       "    .dataframe tbody tr th:only-of-type {\n",
       "        vertical-align: middle;\n",
       "    }\n",
       "\n",
       "    .dataframe tbody tr th {\n",
       "        vertical-align: top;\n",
       "    }\n",
       "\n",
       "    .dataframe thead th {\n",
       "        text-align: right;\n",
       "    }\n",
       "</style>\n",
       "<table border=\"1\" class=\"dataframe\">\n",
       "  <thead>\n",
       "    <tr style=\"text-align: right;\">\n",
       "      <th></th>\n",
       "      <th>Customer ID</th>\n",
       "      <th>sent_jan_oct</th>\n",
       "      <th>sent_nov_dec</th>\n",
       "      <th>subscribers</th>\n",
       "      <th>provider</th>\n",
       "      <th>opens</th>\n",
       "      <th>sales_email</th>\n",
       "      <th>sales_total</th>\n",
       "    </tr>\n",
       "  </thead>\n",
       "  <tbody>\n",
       "    <tr>\n",
       "      <th>0</th>\n",
       "      <td>1</td>\n",
       "      <td>86394</td>\n",
       "      <td>184,019</td>\n",
       "      <td>14709</td>\n",
       "      <td>Third Party Solution</td>\n",
       "      <td>2591.82</td>\n",
       "      <td>$53,561</td>\n",
       "      <td>$5,356,100</td>\n",
       "    </tr>\n",
       "    <tr>\n",
       "      <th>1</th>\n",
       "      <td>2</td>\n",
       "      <td>34309</td>\n",
       "      <td>63,129</td>\n",
       "      <td>8209</td>\n",
       "      <td>Third Party Solution</td>\n",
       "      <td>343.09</td>\n",
       "      <td>$16,399</td>\n",
       "      <td>$273,317</td>\n",
       "    </tr>\n",
       "    <tr>\n",
       "      <th>2</th>\n",
       "      <td>3</td>\n",
       "      <td>42175</td>\n",
       "      <td>91,942</td>\n",
       "      <td>17454</td>\n",
       "      <td>Third Party Solution</td>\n",
       "      <td>421.75</td>\n",
       "      <td>$54,440</td>\n",
       "      <td>$907,333</td>\n",
       "    </tr>\n",
       "    <tr>\n",
       "      <th>3</th>\n",
       "      <td>4</td>\n",
       "      <td>2074</td>\n",
       "      <td>2,489</td>\n",
       "      <td>1411</td>\n",
       "      <td>Shopify Email</td>\n",
       "      <td>186.66</td>\n",
       "      <td>$672</td>\n",
       "      <td>$22,400</td>\n",
       "    </tr>\n",
       "    <tr>\n",
       "      <th>4</th>\n",
       "      <td>5</td>\n",
       "      <td>20695</td>\n",
       "      <td>37,872</td>\n",
       "      <td>11251</td>\n",
       "      <td>Third Party Solution</td>\n",
       "      <td>620.85</td>\n",
       "      <td>$17,800</td>\n",
       "      <td>$445,000</td>\n",
       "    </tr>\n",
       "  </tbody>\n",
       "</table>\n",
       "</div>"
      ],
      "text/plain": [
       "   Customer ID  sent_jan_oct sent_nov_dec  subscribers              provider  \\\n",
       "0            1         86394      184,019        14709  Third Party Solution   \n",
       "1            2         34309       63,129         8209  Third Party Solution   \n",
       "2            3         42175       91,942        17454  Third Party Solution   \n",
       "3            4          2074        2,489         1411         Shopify Email   \n",
       "4            5         20695       37,872        11251  Third Party Solution   \n",
       "\n",
       "     opens sales_email  sales_total  \n",
       "0  2591.82    $53,561   $5,356,100   \n",
       "1   343.09    $16,399     $273,317   \n",
       "2   421.75    $54,440     $907,333   \n",
       "3   186.66       $672      $22,400   \n",
       "4   620.85    $17,800     $445,000   "
      ]
     },
     "execution_count": 25,
     "metadata": {},
     "output_type": "execute_result"
    }
   ],
   "source": [
    "import pandas as pd\n",
    "import numpy as np\n",
    "import matplotlib.pyplot as plt\n",
    "import seaborn as sns\n",
    "\n",
    "# Load dataset\n",
    "# The dataset is located in the same directory as this notebook\n",
    "raw_df = pd.read_csv('data.csv')\n",
    "\n",
    "# Rename columns for easier reference\n",
    "raw_df = raw_df.rename(columns={\n",
    "    'Avg Monthly Sent Emails\\n(Jan-Oct)': 'sent_jan_oct',\n",
    "    'Avg Monthly Sent Emails \\n(Nov-Dec)': 'sent_nov_dec',\n",
    "    'Avg Monthly Subscribers\\n': 'subscribers',\n",
    "    'Email Provider': 'provider',\n",
    "    'Avg Monthly Opened Emails': 'opens',\n",
    "    'Avg Mthly Sales $ \\n(via Email Campaigns)': 'sales_email',\n",
    "    'Avg Mthly Sales $\\n(Total)': 'sales_total'\n",
    "})\n",
    "\n",
    "# Display the first few rows to inspect the data structure\n",
    "raw_df.head()"
   ]
  },
  {
   "cell_type": "code",
   "execution_count": null,
   "id": "44996a97-e59b-4555-b57f-c2f468d2a858",
   "metadata": {},
   "outputs": [],
   "source": []
  },
  {
   "cell_type": "code",
   "execution_count": 26,
   "id": "35c7fbec-7ce6-40be-aac9-0db47687752f",
   "metadata": {},
   "outputs": [
    {
     "data": {
      "application/vnd.microsoft.datawrangler.viewer.v0+json": {
       "columns": [
        {
         "name": "index",
         "rawType": "int64",
         "type": "integer"
        },
        {
         "name": "provider",
         "rawType": "object",
         "type": "string"
        },
        {
         "name": "avg_sent",
         "rawType": "float64",
         "type": "float"
        },
        {
         "name": "open_rate",
         "rawType": "float64",
         "type": "float"
        },
        {
         "name": "revenue_per_email",
         "rawType": "float64",
         "type": "float"
        },
        {
         "name": "revenue_per_subscriber",
         "rawType": "float64",
         "type": "float"
        },
        {
         "name": "monthly_cost",
         "rawType": "float64",
         "type": "float"
        },
        {
         "name": "gross_margin",
         "rawType": "float64",
         "type": "float"
        }
       ],
       "ref": "a2b4459a-eb76-4662-8af9-76a8c29277ca",
       "rows": [
        [
         "0",
         "Shopify Email",
         "15284.285309321327",
         "0.06508595628774291",
         "0.6798638674318167",
         "0.6227418459971623",
         "4.5852855927963985",
         "9.818651375687844"
        ],
        [
         "1",
         "Third Party Solution",
         "60515.12151505054",
         "0.017112461193445828",
         "0.7722503683513994",
         "3.119644659635743",
         "18.15453645451516",
         "177.38174311896034"
        ]
       ],
       "shape": {
        "columns": 7,
        "rows": 2
       }
      },
      "text/html": [
       "<div>\n",
       "<style scoped>\n",
       "    .dataframe tbody tr th:only-of-type {\n",
       "        vertical-align: middle;\n",
       "    }\n",
       "\n",
       "    .dataframe tbody tr th {\n",
       "        vertical-align: top;\n",
       "    }\n",
       "\n",
       "    .dataframe thead th {\n",
       "        text-align: right;\n",
       "    }\n",
       "</style>\n",
       "<table border=\"1\" class=\"dataframe\">\n",
       "  <thead>\n",
       "    <tr style=\"text-align: right;\">\n",
       "      <th></th>\n",
       "      <th>provider</th>\n",
       "      <th>avg_sent</th>\n",
       "      <th>open_rate</th>\n",
       "      <th>revenue_per_email</th>\n",
       "      <th>revenue_per_subscriber</th>\n",
       "      <th>monthly_cost</th>\n",
       "      <th>gross_margin</th>\n",
       "    </tr>\n",
       "  </thead>\n",
       "  <tbody>\n",
       "    <tr>\n",
       "      <th>0</th>\n",
       "      <td>Shopify Email</td>\n",
       "      <td>15284.285309</td>\n",
       "      <td>0.065086</td>\n",
       "      <td>0.679864</td>\n",
       "      <td>0.622742</td>\n",
       "      <td>4.585286</td>\n",
       "      <td>9.818651</td>\n",
       "    </tr>\n",
       "    <tr>\n",
       "      <th>1</th>\n",
       "      <td>Third Party Solution</td>\n",
       "      <td>60515.121515</td>\n",
       "      <td>0.017112</td>\n",
       "      <td>0.772250</td>\n",
       "      <td>3.119645</td>\n",
       "      <td>18.154536</td>\n",
       "      <td>177.381743</td>\n",
       "    </tr>\n",
       "  </tbody>\n",
       "</table>\n",
       "</div>"
      ],
      "text/plain": [
       "               provider      avg_sent  open_rate  revenue_per_email  \\\n",
       "0         Shopify Email  15284.285309   0.065086           0.679864   \n",
       "1  Third Party Solution  60515.121515   0.017112           0.772250   \n",
       "\n",
       "   revenue_per_subscriber  monthly_cost  gross_margin  \n",
       "0                0.622742      4.585286      9.818651  \n",
       "1                3.119645     18.154536    177.381743  "
      ]
     },
     "execution_count": 26,
     "metadata": {},
     "output_type": "execute_result"
    }
   ],
   "source": [
    "# Clean numeric columns by removing commas and dollar signs\n",
    "clean_df = raw_df.copy()\n",
    "\n",
    "# Function to clean numbers\n",
    "for col in ['sent_jan_oct', 'sent_nov_dec', 'subscribers', 'opens']:\n",
    "    # Remove commas and convert to float\n",
    "    clean_df[col] = clean_df[col].astype(str).str.replace(',', '').astype(float)\n",
    "\n",
    "# Clean sales columns: remove $ and commas\n",
    "clean_df['sales_email'] = clean_df['sales_email'].astype(str).str.replace('[$,]', '', regex=True).astype(float)\n",
    "clean_df['sales_total'] = clean_df['sales_total'].astype(str).str.replace('[$,]', '', regex=True).astype(float)\n",
    "\n",
    "# Fill missing Nov-Dec values with Jan-Oct values (assume similar volume when missing)\n",
    "clean_df['sent_nov_dec'] = clean_df['sent_nov_dec'].fillna(clean_df['sent_jan_oct'])\n",
    "\n",
    "# Compute weighted average sent emails across the year\n",
    "clean_df['avg_sent'] = (10 * clean_df['sent_jan_oct'] + 2 * clean_df['sent_nov_dec']) / 12\n",
    "\n",
    "# Compute open rate\n",
    "clean_df['open_rate'] = clean_df['opens'] / clean_df['avg_sent']\n",
    "\n",
    "# Compute revenue per email and per subscriber\n",
    "clean_df['revenue_per_email'] = clean_df['sales_email'] / clean_df['avg_sent']\n",
    "clean_df['revenue_per_subscriber'] = clean_df['sales_email'] / clean_df['subscribers']\n",
    "\n",
    "# Cost per email and gross margin (Shopify cost and payment revenue)\n",
    "COST_PER_EMAIL = 0.0003\n",
    "PAYMENT_FEE_RATE = 0.005  # 0.5% of merchant GMV\n",
    "clean_df['monthly_cost'] = COST_PER_EMAIL * clean_df['avg_sent']\n",
    "clean_df['payment_revenue'] = PAYMENT_FEE_RATE * clean_df['sales_email']\n",
    "clean_df['gross_margin'] = clean_df['payment_revenue'] - clean_df['monthly_cost']\n",
    "\n",
    "# BFCM/holiday period metrics (4x volume, 1.3x revenue)\n",
    "clean_df['bfcm_sent'] = 4 * clean_df['sent_nov_dec']\n",
    "clean_df['bfcm_sales_email'] = 1.3 * clean_df['sales_email']\n",
    "clean_df['bfcm_monthly_cost'] = COST_PER_EMAIL * clean_df['bfcm_sent']\n",
    "clean_df['bfcm_payment_revenue'] = PAYMENT_FEE_RATE * clean_df['bfcm_sales_email']\n",
    "clean_df['bfcm_gross_margin'] = clean_df['bfcm_payment_revenue'] - clean_df['bfcm_monthly_cost']\n",
    "\n",
    "# Summarise key metrics by provider\n",
    "group_cols = ['avg_sent', 'open_rate', 'revenue_per_email', 'revenue_per_subscriber', 'monthly_cost', 'gross_margin']\n",
    "summary_by_provider = clean_df.groupby('provider')[group_cols].mean().reset_index()\n",
    "\n",
    "summary_by_provider"
   ]
  },
  {
   "cell_type": "code",
   "execution_count": null,
   "id": "c0b3c963-bbed-4678-9b6e-312bbee386e4",
   "metadata": {},
   "outputs": [],
   "source": []
  },
  {
   "cell_type": "code",
   "execution_count": 27,
   "id": "74eb2644-9a7c-40d6-97e3-bc5d50fc3275",
   "metadata": {},
   "outputs": [
    {
     "data": {
      "text/plain": [
       "(   quantile  monthly_cost_usd\n",
       " 0      0.50              2.66\n",
       " 1      0.75              4.53\n",
       " 2      0.90             14.47\n",
       " 3      0.95             19.42,\n",
       "        price_point  subscription_price  net_margin_change_total\n",
       " 0  75th percentile                4.53                -110.5159\n",
       " 1  90th percentile               14.47               19759.5441)"
      ]
     },
     "execution_count": 27,
     "metadata": {},
     "output_type": "execute_result"
    }
   ],
   "source": [
    "# Analyze distribution of monthly cost for Shopify Email customers\n",
    "shopify_df = clean_df[clean_df['provider'] == 'Shopify Email'].copy()\n",
    "\n",
    "# Quantiles of the pay-as-you-go monthly cost\n",
    "cost_quantiles = shopify_df['monthly_cost'].quantile([0.5, 0.75, 0.9, 0.95]).round(2)\n",
    "cost_quantiles_df = cost_quantiles.reset_index()\n",
    "cost_quantiles_df.columns = ['quantile', 'monthly_cost_usd']\n",
    "\n",
    "# Evaluate unlimited pricing: test 75th and 90th percentile as fixed subscription price\n",
    "price_75 = cost_quantiles.loc[0.75]\n",
    "price_90 = cost_quantiles.loc[0.90]\n",
    "\n",
    "# Compute revenue difference for each price\n",
    "shopify_df['revenue_diff_75'] = price_75 - shopify_df['monthly_cost']\n",
    "shopify_df['revenue_diff_90'] = price_90 - shopify_df['monthly_cost']\n",
    "\n",
    "# Summarize total monthly margin difference if all Shopify merchants switched to unlimited plan\n",
    "unlimited_summary = pd.DataFrame({\n",
    "    'price_point': ['75th percentile', '90th percentile'],\n",
    "    'subscription_price': [price_75, price_90],\n",
    "    'net_margin_change_total': [shopify_df['revenue_diff_75'].sum(), shopify_df['revenue_diff_90'].sum()]\n",
    "})\n",
    "\n",
    "cost_quantiles_df, unlimited_summary"
   ]
  },
  {
   "cell_type": "code",
   "execution_count": null,
   "id": "0ce39fd0-bb67-4872-9cac-01f93f16ebda",
   "metadata": {},
   "outputs": [],
   "source": []
  },
  {
   "cell_type": "code",
   "execution_count": 28,
   "id": "278e2c6f-bd18-487d-97ab-3d8d4dbe9a26",
   "metadata": {},
   "outputs": [
    {
     "data": {
      "text/plain": [
       "(    provider                          free_tier  \\\n",
       " 0    Klaviyo  250 profiles, 500 emails, 150 SMS   \n",
       " 1   Omnisend   250 contacts, 500 emails, 60 SMS   \n",
       " 2  Mailchimp      500 contacts, 1K emails (ads)   \n",
       " \n",
       "                                        starter_price  \\\n",
       " 0             US$20/mo (251–500 profiles, 5K emails)   \n",
       " 1           US$16/mo (up to 500 contacts, 6K emails)   \n",
       " 2  US$13–20/mo depending on features & contacts (...   \n",
       " \n",
       "                                       unlimited_plan  \n",
       " 0  Unlimited sends tied to active profiles (e.g.,...  \n",
       " 1  US$59/mo for unlimited sends up to 2,500 conta...  \n",
       " 2  US$350+/mo for Premium: unlimited contacts & h...  ,\n",
       "                metric   benchmark_2025                   range_or_notes  \\\n",
       " 0           Open Rate          ~42.35%   ~22.5%–59.7% across industries   \n",
       " 1  Click-Through Rate           ~2.00%                     ~0.77%–4.36%   \n",
       " 2  Click-To-Open Rate           ~5.63%                    ~2.93%–10.71%   \n",
       " 3    Unsubscribe Rate     ~0.08%–0.50%  <0.2% = excellent; <0.5% = good   \n",
       " 4         Bounce Rate  <2% (ideal <1%)     Hard + soft bounces combined   \n",
       " \n",
       "                           sources  \n",
       " 0  ActiveCampaign, Growth-onomics  \n",
       " 1      MailerLite, Growth-onomics  \n",
       " 2      MailerLite, Growth-onomics  \n",
       " 3           ActiveCampaign, WebFX  \n",
       " 4           ActiveCampaign, WebFX  )"
      ]
     },
     "execution_count": 28,
     "metadata": {},
     "output_type": "execute_result"
    }
   ],
   "source": [
    "# Competitor pricing tiers and features (manually extracted from the research slide)\n",
    "competitor_data = pd.DataFrame({\n",
    "    'provider': ['Klaviyo', 'Omnisend', 'Mailchimp'],\n",
    "    'free_tier': [\n",
    "        '250 profiles, 500 emails, 150 SMS',\n",
    "        '250 contacts, 500 emails, 60 SMS',\n",
    "        '500 contacts, 1K emails (ads)'\n",
    "    ],\n",
    "    'starter_price': [\n",
    "        'US$20/mo (251–500 profiles, 5K emails)',\n",
    "        'US$16/mo (up to 500 contacts, 6K emails)',\n",
    "        'US$13–20/mo depending on features & contacts (5K–6K emails)'\n",
    "    ],\n",
    "    'unlimited_plan': [\n",
    "        'Unlimited sends tied to active profiles (e.g., $150/mo at 10K; enterprise custom pricing)',\n",
    "        'US$59/mo for unlimited sends up to 2,500 contacts; scalable tiers beyond',\n",
    "        'US$350+/mo for Premium: unlimited contacts & higher sends'\n",
    "    ]\n",
    "})\n",
    "\n",
    "# External email benchmarks for 2025 (from industry sources)\n",
    "benchmark_data = pd.DataFrame({\n",
    "    'metric': ['Open Rate', 'Click-Through Rate', 'Click-To-Open Rate', 'Unsubscribe Rate', 'Bounce Rate'],\n",
    "    'benchmark_2025': ['~42.35%', '~2.00%', '~5.63%', '~0.08%–0.50%', '<2% (ideal <1%)'],\n",
    "    'range_or_notes': [\n",
    "        '~22.5%–59.7% across industries',\n",
    "        '~0.77%–4.36%',\n",
    "        '~2.93%–10.71%',\n",
    "        '<0.2% = excellent; <0.5% = good',\n",
    "        'Hard + soft bounces combined'\n",
    "    ],\n",
    "    'sources': [\n",
    "        'ActiveCampaign, Growth-onomics',\n",
    "        'MailerLite, Growth-onomics',\n",
    "        'MailerLite, Growth-onomics',\n",
    "        'ActiveCampaign, WebFX',\n",
    "        'ActiveCampaign, WebFX'\n",
    "    ]\n",
    "})\n",
    "\n",
    "competitor_data, benchmark_data"
   ]
  },
  {
   "cell_type": "code",
   "execution_count": null,
   "id": "03680dcf-94de-43e9-b969-9451f4963e3c",
   "metadata": {},
   "outputs": [],
   "source": []
  },
  {
   "cell_type": "code",
   "execution_count": null,
   "id": "8cabc536-3bcd-46a1-9bdb-5ff81efc391e",
   "metadata": {},
   "outputs": [],
   "source": []
  },
  {
   "cell_type": "code",
   "execution_count": 29,
   "id": "c3a2d240-9949-4dbe-a073-b9520bbeb3f6",
   "metadata": {},
   "outputs": [
    {
     "data": {
      "application/vnd.microsoft.datawrangler.viewer.v0+json": {
       "columns": [
        {
         "name": "index",
         "rawType": "int64",
         "type": "integer"
        },
        {
         "name": "price_point",
         "rawType": "object",
         "type": "string"
        },
        {
         "name": "subscription_price",
         "rawType": "float64",
         "type": "float"
        },
        {
         "name": "net_margin_change_total",
         "rawType": "float64",
         "type": "float"
        }
       ],
       "ref": "9acfaae9-306a-4a45-b4d6-41f1dfe101aa",
       "rows": [
        [
         "0",
         "75th percentile",
         "4.53",
         "-110.51589999999848"
        ],
        [
         "1",
         "90th percentile",
         "14.47",
         "19759.5441"
        ]
       ],
       "shape": {
        "columns": 3,
        "rows": 2
       }
      },
      "text/html": [
       "<div>\n",
       "<style scoped>\n",
       "    .dataframe tbody tr th:only-of-type {\n",
       "        vertical-align: middle;\n",
       "    }\n",
       "\n",
       "    .dataframe tbody tr th {\n",
       "        vertical-align: top;\n",
       "    }\n",
       "\n",
       "    .dataframe thead th {\n",
       "        text-align: right;\n",
       "    }\n",
       "</style>\n",
       "<table border=\"1\" class=\"dataframe\">\n",
       "  <thead>\n",
       "    <tr style=\"text-align: right;\">\n",
       "      <th></th>\n",
       "      <th>price_point</th>\n",
       "      <th>subscription_price</th>\n",
       "      <th>net_margin_change_total</th>\n",
       "    </tr>\n",
       "  </thead>\n",
       "  <tbody>\n",
       "    <tr>\n",
       "      <th>0</th>\n",
       "      <td>75th percentile</td>\n",
       "      <td>4.53</td>\n",
       "      <td>-110.5159</td>\n",
       "    </tr>\n",
       "    <tr>\n",
       "      <th>1</th>\n",
       "      <td>90th percentile</td>\n",
       "      <td>14.47</td>\n",
       "      <td>19759.5441</td>\n",
       "    </tr>\n",
       "  </tbody>\n",
       "</table>\n",
       "</div>"
      ],
      "text/plain": [
       "       price_point  subscription_price  net_margin_change_total\n",
       "0  75th percentile                4.53                -110.5159\n",
       "1  90th percentile               14.47               19759.5441"
      ]
     },
     "execution_count": 29,
     "metadata": {},
     "output_type": "execute_result"
    }
   ],
   "source": [
    "unlimited_summary"
   ]
  },
  {
   "cell_type": "code",
   "execution_count": 30,
   "id": "45823d2d-de40-47b0-a05b-65c2993b4728",
   "metadata": {},
   "outputs": [],
   "source": [
    "# Set matplotlib backend to inline to avoid serialization errors\n",
    "import matplotlib\n",
    "matplotlib.use('module://matplotlib_inline.backend_inline')"
   ]
  },
  {
   "cell_type": "markdown",
   "id": "4fc8dcc9-0c7c-4712-aeb8-57cf7cc0aafe",
   "metadata": {},
   "source": [
    "\n"
   ]
  },
  {
   "cell_type": "code",
   "execution_count": 31,
   "id": "893344f0-26ec-42ad-8da4-76aa8365643d",
   "metadata": {},
   "outputs": [
    {
     "data": {
      "image/png": "[encoded data removed]",
      "text/plain": [
       "<Figure size 640x480 with 1 Axes>"
      ]
     },
     "metadata": {},
     "output_type": "display_data"
    }
   ],
   "source": [
    "import matplotlib.pyplot as plt\n",
    "\n",
    "# assume df is your cleaned DataFrame with computed metrics\n",
    "# group by provider type\n",
    "summary = clean_df.groupby('provider').agg({\n",
    "    'open_rate':'mean'\n",
    "}).rename(index={'Shopify':'Shopify', 'Third Party':'Third‑Party'})\n",
    "\n",
    "# add benchmark\n",
    "summary.loc['Benchmark'] = 0.4235  # 42.35% benchmark\n",
    "\n",
    "# plot\n",
    "summary['open_rate'].plot(kind='bar', color=['#91BDFB', '#A6B6D8', '#F5B041'])\n",
    "plt.title('Average Open Rates')\n",
    "plt.ylabel('Open Rate (%)')\n",
    "plt.ylim(0, 0.5)\n",
    "plt.xticks(rotation=0)\n",
    "plt.show()"
   ]
  },
  {
   "cell_type": "code",
   "execution_count": 32,
   "id": "9eb4ca23-2e8f-420c-bb89-a1a7c3d7f502",
   "metadata": {},
   "outputs": [
    {
     "data": {
      "image/png": "[encoded data removed]",
      "text/plain": [
       "<Figure size 1000x400 with 2 Axes>"
      ]
     },
     "metadata": {},
     "output_type": "display_data"
    }
   ],
   "source": [
    "# monthly_cost is cost per merchant based on pay‑as‑you‑go\n",
    "cost_quants = clean_df[clean_df['provider'] == 'Shopify Email']['monthly_cost'].quantile([0.5, 0.75, 0.90])\n",
    "competitor = pd.Series({'Omnisend': 59, 'Klaviyo': 150, 'Mailchimp': 350})\n",
    "\n",
    "fig, ax = plt.subplots(1, 2, figsize=(10, 4))\n",
    "\n",
    "# left bar chart for Shopify cost percentiles\n",
    "ax[0].bar(['Median','75th','90th'], cost_quants.values, color='#91BDFB')\n",
    "ax[0].set_title('Pay‑As‑You‑Go Cost Distribution')\n",
    "ax[0].set_ylabel('Monthly Cost ($)')\n",
    "ax[0].set_ylim(0, competitor.max()*1.1)\n",
    "\n",
    "# right bar chart for competitor unlimited plans\n",
    "ax[1].bar(competitor.index, competitor.values, color='#A6B6D8')\n",
    "ax[1].set_title('Competitor Unlimited Pricing')\n",
    "ax[1].set_ylabel('Monthly Cost ($)')\n",
    "plt.show()"
   ]
  }
 ],
 "metadata": {
  "kernelspec": {
   "display_name": "Python 3",
   "language": "python",
   "name": "python3"
  },
  "language_info": {
   "codemirror_mode": {
    "name": "ipython",
    "version": 3
   },
   "file_extension": ".py",
   "mimetype": "text/x-python",
   "name": "python",
   "nbconvert_exporter": "python",
   "pygments_lexer": "ipython3",
   "version": "3.11.2"
  }
 },
 "nbformat": 4,
 "nbformat_minor": 5
}
